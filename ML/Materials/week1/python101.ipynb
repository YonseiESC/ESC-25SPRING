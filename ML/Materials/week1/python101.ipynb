{
 "cells": [
  {
   "cell_type": "markdown",
   "metadata": {
    "id": "68bQTR9EDZeB"
   },
   "source": [
    "# Agenda\n",
    "\n",
    "1. Setup\n",
    "\n",
    "2. Basics\n",
    "\n",
    "3. Iterables \n",
    "\n",
    "4. Numpy (for math and matrix operations)\n",
    "\n",
    "5. Matplotlib (for plotting)"
   ]
  },
  {
   "cell_type": "code",
   "execution_count": null,
   "metadata": {
    "id": "w0nCFFOWDZeE"
   },
   "outputs": [],
   "source": [
    "# Note: This tutorial is based on Python 3.7\n",
    "#       but it should apply to all Python 3.X versions\n",
    "# Please note that this tutorial is NOT exhaustive\n",
    "# We try to cover everything you need for class assignments\n",
    "# but you should also navigate external resources\n",
    "#\n",
    "# More tutorials:\n",
    "# NUMPY:\n",
    "# https://cs231n.github.io/python-numpy-tutorial/#numpy\n",
    "# https://numpy.org/doc/stable/user/quickstart.html\n",
    "# MATPLOTLIB:\n",
    "# https://matplotlib.org/gallery/index.html\n",
    "# BASICS:\n",
    "# https://www.w3schools.com/python/\n",
    "# CONSULT THESE WISELY:\n",
    "# The official documentation, Google, and Stack-overflow are your friends!"
   ]
  },
  {
   "cell_type": "markdown",
   "metadata": {
    "id": "Uqygmq_RDZeH"
   },
   "source": [
    "# 1. Setup\n",
    "\n",
    "You can either install conda in your local machine or use Google Colab. We are going to use Google Colab in this tutorial."
   ]
  },
  {
   "cell_type": "markdown",
   "metadata": {
    "id": "bFbXwZO3EfGV"
   },
   "source": [
    "## 1.1. Conda for environment management \n",
    "\n",
    "Anaconda: https://www.anaconda.com/ <br>\n",
    "Miniconda: https://docs.conda.io/en/latest/miniconda.html\n",
    "\n",
    "[Anaconda or Miniconda?](https://docs.conda.io/projects/conda/en/latest/user-guide/install/download.html#anaconda-or-miniconda)\n",
    "\n",
    "### Common commands\n",
    "\n",
    "- list all environments: `conda env list`\n",
    "- create new environment w/ python 3.7: `conda create -n <envname> python=3.7`\n",
    "- create environment from config file: `conda env create -f env.yml`\n",
    "- activate a environment: `conda activate <envname>`\n",
    "- exit environment: `conda deactivate`\n",
    "- install package for current environment: `pip install <package>`\n",
    "- open jupyter in current environment: `jupyter notebook`\n",
    "\n",
    "### Package installation using conda/pip\n",
    "- `conda install <package>`: do care about compatibility with installed packages; it would take some time <br>\n",
    "- `pip install <package>`: do not care about compatibility with installed packages\n",
    "- Both will install all dependencies, if any\n",
    "\n",
    "### Recommended IDEs\n",
    "Pycharm (the most popular choice, compatible with Anaconda) <br>\n",
    "Visual Studio Code (for other programming languages as well) <br>\n",
    "Spyder (in-built in Anaconda) <br>\n",
    "Notepad++ (if you just need a lightweight text editor)"
   ]
  },
  {
   "cell_type": "code",
   "execution_count": null,
   "metadata": {
    "id": "fZBsEE_4DZeI"
   },
   "outputs": [],
   "source": [
    "## common anaconda commands\n",
    "#conda env list\n",
    "#conda create -n <envname> python=3.8\n",
    "#conda env create -f env.yml\n",
    "#conda activate <envname>\n",
    "#conda deactivate\n",
    "## install packages\n",
    "#conda install <package>\n",
    "#pip install <package>"
   ]
  },
  {
   "cell_type": "markdown",
   "metadata": {
    "id": "kQndOAmiVTO3"
   },
   "source": [
    "## 1.2. Google Colab Setup\n",
    "Before getting started we need to run some boilerplate code to set up our environment. You'll need to rerun this setup code each time you start the notebook.\n",
    "\n",
    "First, run this cell load the [autoreload](https://ipython.readthedocs.io/en/stable/config/extensions/autoreload.html?highlight=autoreload) extension. This allows us to edit `.py` source files, and re-import them into the notebook for a seamless editing and debugging experience."
   ]
  },
  {
   "cell_type": "code",
   "execution_count": 5,
   "metadata": {
    "id": "H5PzjwH7VTO4"
   },
   "outputs": [
    {
     "name": "stdout",
     "output_type": "stream",
     "text": [
      "The autoreload extension is already loaded. To reload it, use:\n",
      "  %reload_ext autoreload\n"
     ]
    }
   ],
   "source": [
    "%load_ext autoreload\n",
    "%autoreload 2"
   ]
  },
  {
   "cell_type": "markdown",
   "metadata": {
    "id": "bCtoiSyVVTO8"
   },
   "source": [
    "Next we need to run a few commands to set up our environment on Google Colab. If you are running this notebook on a local machine you can skip this section.\n",
    "\n",
    "Run the following cell to mount your Google Drive. Follow the link, sign in to your Google account (the same account you used to store this notebook!) and copy the authorization code into the text box that appears below."
   ]
  },
  {
   "cell_type": "code",
   "execution_count": 7,
   "metadata": {},
   "outputs": [],
   "source": [
    "import google"
   ]
  },
  {
   "cell_type": "code",
   "execution_count": 8,
   "metadata": {
    "id": "tHG0slB6VTO8"
   },
   "outputs": [
    {
     "name": "stderr",
     "output_type": "stream",
     "text": [
      "/Users/heejoon/miniconda3/envs/torch212_py311/lib/python3.11/site-packages/google/colab/data_table.py:30: UserWarning: IPython.utils.traitlets has moved to a top-level traitlets package.\n",
      "  from IPython.utils import traitlets as _traitlets\n"
     ]
    },
    {
     "ename": "AttributeError",
     "evalue": "module 'IPython.utils.traitlets' has no attribute 'Unicode'",
     "output_type": "error",
     "traceback": [
      "\u001b[0;31m---------------------------------------------------------------------------\u001b[0m",
      "\u001b[0;31mAttributeError\u001b[0m                            Traceback (most recent call last)",
      "Cell \u001b[0;32mIn[8], line 1\u001b[0m\n\u001b[0;32m----> 1\u001b[0m \u001b[38;5;28;01mfrom\u001b[39;00m \u001b[38;5;21;01mgoogle\u001b[39;00m\u001b[38;5;21;01m.\u001b[39;00m\u001b[38;5;21;01mcolab\u001b[39;00m \u001b[38;5;28;01mimport\u001b[39;00m drive\n\u001b[1;32m      2\u001b[0m drive\u001b[38;5;241m.\u001b[39mmount(\u001b[38;5;124m'\u001b[39m\u001b[38;5;124m/content/drive\u001b[39m\u001b[38;5;124m'\u001b[39m)\n",
      "File \u001b[0;32m~/miniconda3/envs/torch212_py311/lib/python3.11/site-packages/google/colab/__init__.py:26\u001b[0m\n\u001b[1;32m     24\u001b[0m \u001b[38;5;28;01mfrom\u001b[39;00m \u001b[38;5;21;01mgoogle\u001b[39;00m\u001b[38;5;21;01m.\u001b[39;00m\u001b[38;5;21;01mcolab\u001b[39;00m \u001b[38;5;28;01mimport\u001b[39;00m _tensorflow_magics\n\u001b[1;32m     25\u001b[0m \u001b[38;5;28;01mfrom\u001b[39;00m \u001b[38;5;21;01mgoogle\u001b[39;00m\u001b[38;5;21;01m.\u001b[39;00m\u001b[38;5;21;01mcolab\u001b[39;00m \u001b[38;5;28;01mimport\u001b[39;00m auth\n\u001b[0;32m---> 26\u001b[0m \u001b[38;5;28;01mfrom\u001b[39;00m \u001b[38;5;21;01mgoogle\u001b[39;00m\u001b[38;5;21;01m.\u001b[39;00m\u001b[38;5;21;01mcolab\u001b[39;00m \u001b[38;5;28;01mimport\u001b[39;00m data_table\n\u001b[1;32m     27\u001b[0m \u001b[38;5;28;01mfrom\u001b[39;00m \u001b[38;5;21;01mgoogle\u001b[39;00m\u001b[38;5;21;01m.\u001b[39;00m\u001b[38;5;21;01mcolab\u001b[39;00m \u001b[38;5;28;01mimport\u001b[39;00m drive\n\u001b[1;32m     28\u001b[0m \u001b[38;5;28;01mfrom\u001b[39;00m \u001b[38;5;21;01mgoogle\u001b[39;00m\u001b[38;5;21;01m.\u001b[39;00m\u001b[38;5;21;01mcolab\u001b[39;00m \u001b[38;5;28;01mimport\u001b[39;00m files\n",
      "File \u001b[0;32m~/miniconda3/envs/torch212_py311/lib/python3.11/site-packages/google/colab/data_table.py:166\u001b[0m\n\u001b[1;32m    149\u001b[0m       columns_and_types\u001b[38;5;241m.\u001b[39mappend((column_type, \u001b[38;5;28mstr\u001b[39m(header_formatters[i](column))))\n\u001b[1;32m    151\u001b[0m     \u001b[38;5;28;01mreturn\u001b[39;00m \u001b[38;5;124m\"\"\"\u001b[39m\n\u001b[1;32m    152\u001b[0m \u001b[38;5;124m      import \u001b[39m\u001b[38;5;124m\"\u001b[39m\u001b[38;5;132;01m{gviz_url}\u001b[39;00m\u001b[38;5;124m\"\u001b[39m\u001b[38;5;124m;\u001b[39m\n\u001b[1;32m    153\u001b[0m \n\u001b[0;32m   (...)\u001b[0m\n\u001b[1;32m    162\u001b[0m         columns\u001b[38;5;241m=\u001b[39m_json\u001b[38;5;241m.\u001b[39mdumps(columns_and_types),\n\u001b[1;32m    163\u001b[0m         num_rows_per_page\u001b[38;5;241m=\u001b[39m\u001b[38;5;28mself\u001b[39m\u001b[38;5;241m.\u001b[39m_num_rows_per_page)\n\u001b[0;32m--> 166\u001b[0m \u001b[38;5;28;43;01mclass\u001b[39;49;00m\u001b[43m \u001b[49m\u001b[38;5;21;43;01m_JavascriptModuleFormatter\u001b[39;49;00m\u001b[43m(\u001b[49m\u001b[43m_IPython\u001b[49m\u001b[38;5;241;43m.\u001b[39;49m\u001b[43mcore\u001b[49m\u001b[38;5;241;43m.\u001b[39;49m\u001b[43mformatters\u001b[49m\u001b[38;5;241;43m.\u001b[39;49m\u001b[43mBaseFormatter\u001b[49m\u001b[43m)\u001b[49m\u001b[43m:\u001b[49m\n\u001b[1;32m    167\u001b[0m \u001b[43m  \u001b[49m\u001b[43mformat_type\u001b[49m\u001b[43m \u001b[49m\u001b[38;5;241;43m=\u001b[39;49m\u001b[43m \u001b[49m\u001b[43m_traitlets\u001b[49m\u001b[38;5;241;43m.\u001b[39;49m\u001b[43mUnicode\u001b[49m\u001b[43m(\u001b[49m\u001b[43m_JAVASCRIPT_MODULE_MIME_TYPE\u001b[49m\u001b[43m)\u001b[49m\n\u001b[1;32m    168\u001b[0m \u001b[43m  \u001b[49m\u001b[43mprint_method\u001b[49m\u001b[43m \u001b[49m\u001b[38;5;241;43m=\u001b[39;49m\u001b[43m \u001b[49m\u001b[43m_traitlets\u001b[49m\u001b[38;5;241;43m.\u001b[39;49m\u001b[43mObjectName\u001b[49m\u001b[43m(\u001b[49m\u001b[38;5;124;43m'\u001b[39;49m\u001b[38;5;124;43m_repr_javascript_module_\u001b[39;49m\u001b[38;5;124;43m'\u001b[39;49m\u001b[43m)\u001b[49m\n",
      "File \u001b[0;32m~/miniconda3/envs/torch212_py311/lib/python3.11/site-packages/google/colab/data_table.py:167\u001b[0m, in \u001b[0;36m_JavascriptModuleFormatter\u001b[0;34m()\u001b[0m\n\u001b[1;32m    166\u001b[0m \u001b[38;5;28;01mclass\u001b[39;00m \u001b[38;5;21;01m_JavascriptModuleFormatter\u001b[39;00m(_IPython\u001b[38;5;241m.\u001b[39mcore\u001b[38;5;241m.\u001b[39mformatters\u001b[38;5;241m.\u001b[39mBaseFormatter):\n\u001b[0;32m--> 167\u001b[0m   format_type \u001b[38;5;241m=\u001b[39m \u001b[43m_traitlets\u001b[49m\u001b[38;5;241;43m.\u001b[39;49m\u001b[43mUnicode\u001b[49m(_JAVASCRIPT_MODULE_MIME_TYPE)\n\u001b[1;32m    168\u001b[0m   print_method \u001b[38;5;241m=\u001b[39m _traitlets\u001b[38;5;241m.\u001b[39mObjectName(\u001b[38;5;124m'\u001b[39m\u001b[38;5;124m_repr_javascript_module_\u001b[39m\u001b[38;5;124m'\u001b[39m)\n",
      "\u001b[0;31mAttributeError\u001b[0m: module 'IPython.utils.traitlets' has no attribute 'Unicode'"
     ]
    }
   ],
   "source": [
    "from google.colab import drive\n",
    "drive.mount('/content/drive')"
   ]
  },
  {
   "cell_type": "markdown",
   "metadata": {
    "id": "UWjXo-vXVTO_"
   },
   "source": [
    "Now recall the path in your Google Drive where you uploaded this notebook, fill it in below. If everything is working correctly then running the folowing cell should print the filenames:\n",
    "\n",
    "```\n",
    "['python101.py', 'python101.ipynb']\n",
    "```"
   ]
  },
  {
   "cell_type": "code",
   "execution_count": null,
   "metadata": {
    "id": "KqMvJnNHVTPA"
   },
   "outputs": [],
   "source": [
    "import os\n",
    "\n",
    "# TODO: Fill in the Google Drive path where you uploaded the assignment\n",
    "# Example: If you create a \"Colab Notebooks\" folder and put all the files under this folder\n",
    "GOOGLE_DRIVE_PATH_AFTER_MYDRIVE = 'Colab Notebooks'\n",
    "GOOGLE_DRIVE_PATH = os.path.join('drive', 'My Drive', GOOGLE_DRIVE_PATH_AFTER_MYDRIVE)\n",
    "print(os.listdir(GOOGLE_DRIVE_PATH))"
   ]
  },
  {
   "cell_type": "markdown",
   "metadata": {
    "id": "ko-wLqHWVTPC"
   },
   "source": [
    "Once you have successfully mounted your Google Drive and located the path to this assignment, run the following cell to allow us to import from the `.py` files of this assignment. If it works correctly, it should print the message:\n",
    "\n",
    "```\n",
    "Hello from python101.py!\n",
    "```\n",
    "\n",
    "as well as the last edit time for the file `python101.py`."
   ]
  },
  {
   "cell_type": "code",
   "execution_count": null,
   "metadata": {
    "id": "1AoThF9eVTPD"
   },
   "outputs": [],
   "source": [
    "import sys\n",
    "sys.path.append(GOOGLE_DRIVE_PATH)\n",
    "\n",
    "import time, os\n",
    "os.environ[\"TZ\"] = \"Asia/Seoul\"\n",
    "time.tzset()\n",
    "\n",
    "from python101 import hello\n",
    "hello()\n",
    "hello('print me')\n",
    "\n",
    "python101_path = os.path.join(GOOGLE_DRIVE_PATH, 'python101.py')\n",
    "python101_edit_time = time.ctime(os.path.getmtime(python101_path))\n",
    "print('python101.py last edited on %s' % python101_edit_time)"
   ]
  },
  {
   "cell_type": "markdown",
   "metadata": {
    "id": "q62k9fldDZeJ"
   },
   "source": [
    "# 2. Basics\n",
    "\n",
    "https://www.w3schools.com/python/"
   ]
  },
  {
   "cell_type": "code",
   "execution_count": null,
   "metadata": {
    "id": "vJMMdsIlDZeJ"
   },
   "outputs": [],
   "source": [
    "# input and output\n",
    "name = input()\n",
    "print(\"hello, \" + name)"
   ]
  },
  {
   "cell_type": "code",
   "execution_count": null,
   "metadata": {
    "id": "TbSCSz3tDZeK"
   },
   "outputs": [],
   "source": [
    "print(\"print with new line\")\n",
    "print(\"print without new line\", end=\"\")\n",
    "print()\n",
    "print(\"print multiple variables separated by a space:\", name, 1, 3.0, True)"
   ]
  },
  {
   "cell_type": "code",
   "execution_count": null,
   "metadata": {
    "id": "JBgjlbdkDZeL"
   },
   "outputs": [],
   "source": [
    "# line comment\n",
    "\"\"\"\n",
    "block \n",
    "comments\n",
    "\"\"\"\n",
    "print('nothing to print')"
   ]
  },
  {
   "cell_type": "code",
   "execution_count": null,
   "metadata": {
    "id": "NSQOemNrDZeL"
   },
   "outputs": [],
   "source": [
    "# variables don't need explicit declaration\n",
    "var = \"hello\" # string\n",
    "var = 10.0    # float\n",
    "var = 10      # int\n",
    "var = True    # boolean\n",
    "var = [1,2,3] # pointer to list\n",
    "var = None    # empty pointer"
   ]
  },
  {
   "cell_type": "code",
   "execution_count": null,
   "metadata": {
    "id": "tgy_8SMMDZeM"
   },
   "outputs": [],
   "source": [
    "# type conversions\n",
    "var = 10\n",
    "print(int(var))\n",
    "print(str(var))\n",
    "print(float(var))"
   ]
  },
  {
   "cell_type": "code",
   "execution_count": null,
   "metadata": {
    "id": "5jbJBVGXDZeM"
   },
   "outputs": [],
   "source": [
    "# basic math operations\n",
    "var = 10\n",
    "print(\"var + 4 =\", var + 4)\n",
    "print(\"var - 4 =\", var - 4)\n",
    "print(\"var * 4 =\", var * 4)\n",
    "print(\"var ^ 4 =\", var ** 4)\n",
    "print(\"mod(var, 3) =\", var % 3)\n",
    "print(\"int(var) / 4 =\", var // 4)   # // for int division\n",
    "print(\"float(var) / 4 =\", var / 4)  # / for float division\n",
    "# All compound assignment operators available\n",
    "# including += -= *= **= /= //= \n",
    "# pre/post in/decrementers not available (++ --)"
   ]
  },
  {
   "cell_type": "code",
   "execution_count": null,
   "metadata": {
    "id": "0hjjeN66DZeN"
   },
   "outputs": [],
   "source": [
    "# basic boolean operations include \"and\", \"or\", \"not\"\n",
    "print(\"not True is\", not True)\n",
    "print(\"True and False is\", True and False)\n",
    "print(\"True or False is\", True or False)"
   ]
  },
  {
   "cell_type": "code",
   "execution_count": null,
   "metadata": {
    "id": "xksm1M_pDZeN"
   },
   "outputs": [],
   "source": [
    "# String operations\n",
    "# '' and \"\" are equivalent\n",
    "s = \"String\"\n",
    "#s = 'Mary said \"Hello\" to John'\n",
    "# s = \"Mary said \\\"Hello\\\" to John\"\n",
    "# print(s)\n",
    "\n",
    "# basic\n",
    "print(len(s)) # get length of string and any iterable type\n",
    "print(s[0]) # get char by index\n",
    "print(s[1:3]) # [1,3)\n",
    "print(\"This is a \" + s + \"!\")\n",
    "\n",
    "# handy tools\n",
    "print(s.lower())\n",
    "print(s*4)\n",
    "print(\"ring\" in s)\n",
    "print(s.index(\"ring\"))\n",
    "\n",
    "# slice by delimiter\n",
    "print(\"I am a sentence\".split(\" \"))\n",
    "# concatenate a list of string using a delimiter\n",
    "print(\"...\".join(['a','b','c']))\n",
    "\n",
    "# formatting variables\n",
    "print(\"Formatting a string like %.2f\"%(0.12345))\n",
    "print(\"Or like {} {}!\".format(s.upper(), s.lower()))\n",
    "print(\"Or like {str1} {str2}!\".format(str2=s.upper(), str1=s.lower()))\n",
    "print(f\"Or like {s.upper()} {s.lower()}! for python>=3.6\")"
   ]
  },
  {
   "cell_type": "code",
   "execution_count": null,
   "metadata": {
    "id": "q8ktJIKGDZeO"
   },
   "outputs": [],
   "source": [
    "# control flows\n",
    "# NOTE: No parentheses or curly braces\n",
    "#       Indentation is used to identify code blocks\n",
    "#       So never ever mix spaces with tabs\n",
    "for i in range(0, 5):\n",
    "    for j in range(i, 5):\n",
    "        print(\"inner loop \", [i, j])\n",
    "    print(\"outer loop \", i)"
   ]
  },
  {
   "cell_type": "code",
   "execution_count": null,
   "metadata": {
    "id": "hAmlUsXsDZeO"
   },
   "outputs": [],
   "source": [
    "# if-else\n",
    "var = 10\n",
    "if var > 10:\n",
    "    print(\">\")\n",
    "elif var == 10:\n",
    "    print(\"=\")\n",
    "else:\n",
    "    print(\"<\")\n",
    "\n",
    "# pass when do nothing\n",
    "if True:\n",
    "    pass\n",
    "else:\n",
    "    print(\"do something\")"
   ]
  },
  {
   "cell_type": "code",
   "execution_count": null,
   "metadata": {
    "id": "PZK_aJdZDZeO",
    "scrolled": true
   },
   "outputs": [],
   "source": [
    "# use \"if\" to check null pointer or 0 or empty arrays\n",
    "var = None\n",
    "if var: \n",
    "    print(var)\n",
    "var = 0\n",
    "if var:\n",
    "    print(var)\n",
    "var = []\n",
    "if var:\n",
    "    print(var)\n",
    "var = \"object\"\n",
    "if var:\n",
    "    print(var)"
   ]
  },
  {
   "cell_type": "code",
   "execution_count": null,
   "metadata": {
    "id": "fghBVm4LDZeP"
   },
   "outputs": [],
   "source": [
    "# while-loop\n",
    "var = 5\n",
    "while var > 0:\n",
    "    print(var)\n",
    "    var -=1"
   ]
  },
  {
   "cell_type": "code",
   "execution_count": null,
   "metadata": {
    "id": "7p7aOGRsDZeP"
   },
   "outputs": [],
   "source": [
    "# for-loop\n",
    "\"\"\"\n",
    "equivalent to\n",
    "for (int i = 0; i < 3; i++)\n",
    "\"\"\"\n",
    "for i in range(3):  # prints 0 1 2\n",
    "    print(i)\n",
    "    \n",
    "print(\"-------\")\n",
    "# range (start-inclusive, stop-exclusive, step)\n",
    "\"\"\"\n",
    "equivalent to\n",
    "for (int i = 2; i > -3; i-=2)\n",
    "\"\"\"\n",
    "for i in range(2, -3, -2): \n",
    "    print(i)"
   ]
  },
  {
   "cell_type": "code",
   "execution_count": null,
   "metadata": {
    "id": "l6XUI7tfDZeP"
   },
   "outputs": [],
   "source": [
    "# define function\n",
    "def func(a, b):\n",
    "    c= a + b\n",
    "    return c\n",
    "print(func(1,3))"
   ]
  },
  {
   "cell_type": "code",
   "execution_count": null,
   "metadata": {
    "id": "XoRSLTT1DZeR"
   },
   "outputs": [],
   "source": [
    "# use default parameters and pass values by parameter name\n",
    "def rangeCheck(a, min_val=0, max_val=10):\n",
    "    return min_val < a < max_val    # syntactic sugar\n",
    "out = rangeCheck(5, max_val=4)\n",
    "print(out)\n",
    "out = rangeCheck(5, min_val=3, max_val=6)\n",
    "print(out)"
   ]
  },
  {
   "cell_type": "code",
   "execution_count": null,
   "metadata": {
    "id": "32ymGviXDZeT"
   },
   "outputs": [],
   "source": [
    "# define class\n",
    "class Foo:\n",
    "\n",
    "    # optinal constructor\n",
    "    def __init__(self, x):\n",
    "        # first parameter \"self\" for instance reference, like \"this\" in JAVA\n",
    "        self.x = x\n",
    "        # class methods are runnable only in the same class\n",
    "        self.printClass()\n",
    "\n",
    "    # static variable\n",
    "    y = 1\n",
    "\n",
    "    # instance method\n",
    "    def printX(self): # instance reference is required for all function parameters\n",
    "        print(self.x)\n",
    "\n",
    "    # class method, useful when inherit class; most likely you will never need this\n",
    "    @classmethod\n",
    "    def printClass(self):\n",
    "        print(self.y)\n",
    "\n",
    "    # static method, you don't need an instance to call this\n",
    "    @staticmethod\n",
    "    def printStatic():\n",
    "        print(\"hello\")\n",
    "\n",
    "print('create a Foo instance')\n",
    "obj = Foo(6)\n",
    "\n",
    "print('call a Foo instance method')\n",
    "obj.printX()\n",
    "# Foo.printX() # invalid\n",
    "\n",
    "print('call a Foo class method')\n",
    "obj.printClass()\n",
    "Foo.printClass()\n",
    "\n",
    "print('call a Foo static method')\n",
    "obj.printStatic()\n",
    "Foo.printStatic()"
   ]
  },
  {
   "cell_type": "code",
   "execution_count": null,
   "metadata": {
    "id": "5WimZuUZDZeU"
   },
   "outputs": [],
   "source": [
    "# class inheritance - inherits variables and methods\n",
    "class Bar(Foo):\n",
    "    pass\n",
    "obj = Bar(3)\n",
    "obj.printX()"
   ]
  },
  {
   "cell_type": "markdown",
   "metadata": {
    "id": "3HODhToIDZeV"
   },
   "source": [
    "# 3. Iterables"
   ]
  },
  {
   "cell_type": "code",
   "execution_count": null,
   "metadata": {
    "id": "MYtSa45HDZeX"
   },
   "outputs": [],
   "source": [
    "alist = list()  # linear, size not fixed, not hashable\n",
    "atuple = tuple() # linear, fixed size, hashable\n",
    "adict = dict()  # hash table, not hashable, stores (key,value) pairs\n",
    "aset = set()    # hash table, like dict but only stores keys\n",
    "acopy = alist.copy() # shallow copy\n",
    "import copy\n",
    "aacopy = copy.deepcopy(alist) # deep copy\n",
    "print(len(alist)) # gets size of any iterable type\n",
    "\n",
    "a_list = [0,1,2,3,4,5,6,7,8,9]\n",
    "print(a_list)\n",
    "\n",
    "a_range = range(10) # not defined until actually retrieved\n",
    "print(a_range)\n",
    "print(list(a_range)) # cast to list\n",
    "\n",
    "print(sum(a_list))\n",
    "print(sum(a_range))"
   ]
  },
  {
   "cell_type": "code",
   "execution_count": null,
   "metadata": {
    "id": "ahnduU1UDZeY"
   },
   "outputs": [],
   "source": [
    "# examplar tuple usage\n",
    "# creating a dictionary to store ngram counts\n",
    "d = dict()\n",
    "d[(\"a\",\"cat\")] = 10\n",
    "# d[[\"a\",\"cat\"]] = 11 # invalid\n",
    "print(d)"
   ]
  },
  {
   "cell_type": "code",
   "execution_count": null,
   "metadata": {
    "id": "1Kcc9GQlDZeY"
   },
   "outputs": [],
   "source": [
    "\"\"\"\n",
    "List: not hashable (i.e. can't use as dictionary key)\n",
    "      dynamic size\n",
    "      allows duplicates and inconsistent element types\n",
    "      dynamic array implementation\n",
    "\"\"\"\n",
    "# list creation\n",
    "alist = []          # empty list, equivalent to list()\n",
    "alist = [1,2,3,4,5] # initialized list\n",
    "\n",
    "print(alist[0])\n",
    "alist[0] = 5\n",
    "print(alist)\n",
    "alist[0] = 1\n",
    "print(alist)\n",
    "\n",
    "\n",
    "print(\"-\"*10)\n",
    "# list indexing\n",
    "print(alist[0]) # get first element (at index 0)\n",
    "print(alist[-1]) # get last element (at index len-1)\n",
    "print(alist[3:]) # get elements starting from index 3 (inclusive: [3,len))\n",
    "print(alist[:3]) # get elements stopping at index 3 (exclusive [0,3))\n",
    "print(alist[2:4]) # get elements within index range [2,4)\n",
    "print(alist[6:]) # prints nothing because index is out of range\n",
    "print(alist[::-1]) # returns a reversed list\n",
    "\n",
    "print(\"-\"*10)\n",
    "# list modification\n",
    "alist.append(\"new item\") # insert at end\n",
    "print(alist)\n",
    "alist.insert(0, \"new item\") # insert at index 0\n",
    "print(alist)\n",
    "alist.extend([2,3,4]) # concatenate lists\n",
    "print(alist)\n",
    "# above line is equivalent to alist += [2,3,4]\n",
    "i = alist.index(\"new item\") # search by content\n",
    "print(i)\n",
    "j = alist.index(\"new item\", i+1) # search by content, next\n",
    "print(j)\n",
    "alist.remove(\"new item\") # remove by content\n",
    "print(alist)\n",
    "alist.pop(0) # remove by index\n",
    "print(alist)\n",
    "\n",
    "print(\"-\"*10)\n",
    "if \"new item\" in alist:\n",
    "    print(\"found\")\n",
    "else:\n",
    "    print(\"not found\")\n",
    "\n",
    "print(\"-\"*10)\n",
    "# list traversal\n",
    "for ele in alist:\n",
    "    print(ele)\n",
    "\n",
    "print(\"-\"*10)\n",
    "# or traverse with index\n",
    "for i, ele in enumerate(alist):\n",
    "    print(i, ele)"
   ]
  },
  {
   "cell_type": "code",
   "execution_count": null,
   "metadata": {
    "id": "nzzWqRyWDZeZ"
   },
   "outputs": [],
   "source": [
    "\"\"\"\n",
    "Tuple: hashable (i.e. can use as dictionary key)\n",
    "       fixed size (no insertion or deletion)\n",
    "\"\"\"\n",
    "# it does not make sense to create empty tuples\n",
    "atuple = (1,)\n",
    "print(atuple)\n",
    "atuple = (1,2,3,4,5)\n",
    "print(atuple)\n",
    " # or you can cast other iterables to tuple\n",
    "atuple = tuple([1,2,3])\n",
    "print(atuple)\n",
    "\n",
    "# indexing and traversal are same as list\n",
    "print(atuple[1:])"
   ]
  },
  {
   "cell_type": "code",
   "execution_count": null,
   "metadata": {
    "id": "afOa5yuWDZea"
   },
   "outputs": [],
   "source": [
    "\"\"\"\n",
    "Named tuples for readibility\n",
    "\"\"\"\n",
    "from collections import namedtuple\n",
    "Point = namedtuple('Point', 'x y')\n",
    "pt1 = Point(1.0, 5.0)\n",
    "pt2 = Point(2.5, 1.5)\n",
    "print(pt1.x, pt1.y)"
   ]
  },
  {
   "cell_type": "code",
   "execution_count": null,
   "metadata": {
    "id": "f2sbwFyUDZea"
   },
   "outputs": [],
   "source": [
    "\"\"\"\n",
    "Dict: not hashable \n",
    "      dynamic size\n",
    "      no duplicates allowed\n",
    "      hash table implementation which is fast for searching\n",
    "\"\"\"\n",
    "# dict creation\n",
    "adict = {} # empty dict, equivalent to dict()\n",
    "print(adict)\n",
    "adict = {'a':1, 'b':2, 'c':3}\n",
    "print(adict)\n",
    "\n",
    "# get all keys in dictionary\n",
    "print(adict.keys())\n",
    "\n",
    "# get value paired with key\n",
    "print(adict['a'])\n",
    "\n",
    "# NOTE: accessing keys not in the dictionary leads to exception\n",
    "key = 'e'\n",
    "if key in adict:\n",
    "    print(adict[key])\n",
    "    \n",
    "# add or modify dictionary entries\n",
    "adict['e'] = 10 # insert new key\n",
    "adict['e'] = 5  # modify existing keys\n",
    "\n",
    "print(\"-\"*10)\n",
    "# traverse keys only\n",
    "for key in adict:\n",
    "    print(key, adict[key])\n",
    "\n",
    "print(\"-\"*10)\n",
    "# or traverse key-value pairs together\n",
    "for key, value in adict.items():\n",
    "    print(key, value)\n",
    "\n",
    "print(\"-\"*10)\n",
    "# NOTE: Checking if a key exists\n",
    "key = 'e'\n",
    "if key in adict: # NO .keys() here please!\n",
    "    print(adict[key])\n",
    "else:\n",
    "    print(\"Not found!\")"
   ]
  },
  {
   "cell_type": "code",
   "execution_count": null,
   "metadata": {
    "id": "6oJ8LilCDZeb"
   },
   "outputs": [],
   "source": [
    "\"\"\"\n",
    "Special dictionaries \n",
    "\"\"\"\n",
    "# set is a dictionary without values\n",
    "aset = set() # caution: {} is an empty dictionary, not an empty set\n",
    "print(aset)\n",
    "aset.add('a')\n",
    "print(aset)\n",
    "\n",
    "# deduplication short-cut using set\n",
    "alist = [1,2,3,3,3,4,3]\n",
    "alist = list(set(alist))\n",
    "print(alist)\n",
    "\n",
    "# default_dictionary returns a value computed from a default function\n",
    "#     for non-existent entries\n",
    "from collections import defaultdict\n",
    "adict = defaultdict(lambda: 'unknown')\n",
    "adict['cat'] = 'feline'\n",
    "print(adict['cat'])\n",
    "print(adict['dog'])"
   ]
  },
  {
   "cell_type": "code",
   "execution_count": null,
   "metadata": {
    "id": "OBq3PsbXDZec"
   },
   "outputs": [],
   "source": [
    "# counter is a dictionary with default value of 0\n",
    "#     and provides handy iterable counting tools\n",
    "from collections import Counter\n",
    "\n",
    "# initialize and modify empty counter\n",
    "counter1 = Counter()\n",
    "print(counter1)\n",
    "counter1['t'] = 10\n",
    "print(counter1)\n",
    "counter1['t'] += 1\n",
    "print(counter1)\n",
    "counter1['e'] += 1\n",
    "print(counter1)\n",
    "print(\"-\"*10)\n",
    "\n",
    "# initialize counter from iterable\n",
    "counter2 = Counter(\"letters to be counted\")\n",
    "print(counter2)\n",
    "print(counter2[\"t\"])\n",
    "print(\"-\"*10)\n",
    "\n",
    "# computations using counters\n",
    "print(\"1,\", counter1 + counter2)\n",
    "print(\"2,\", counter1 - counter2)\n",
    "print(\"3,\", counter1 or counter2) # or for intersection, and for union"
   ]
  },
  {
   "cell_type": "code",
   "execution_count": null,
   "metadata": {
    "id": "1uj4wYbkDZec"
   },
   "outputs": [],
   "source": [
    "# sorting\n",
    "a = [4,6,1,7,0,5,1,8,9]\n",
    "a = sorted(a)\n",
    "print(a)\n",
    "a = sorted(a, reverse=True)\n",
    "print(a)"
   ]
  },
  {
   "cell_type": "code",
   "execution_count": null,
   "metadata": {
    "id": "ot3amHo0DZec"
   },
   "outputs": [],
   "source": [
    "# sorting\n",
    "a = [(\"cat\",1), (\"dog\", 3), (\"bird\", 2)]\n",
    "a = sorted(a)\n",
    "print(a)\n",
    "# user-defined function as a key\n",
    "def pick_second(x):\n",
    "  return x[1]\n",
    "c = sorted(a, key=pick_second)\n",
    "print(c)\n",
    "# lambda function as a key\n",
    "b = sorted(a, key=lambda x:x[1])\n",
    "print(b)"
   ]
  },
  {
   "cell_type": "code",
   "execution_count": null,
   "metadata": {
    "id": "zfaxHl6EDZed"
   },
   "outputs": [],
   "source": [
    "# useful in dictionary sorting\n",
    "adict = {'cat':3, 'bird':1}\n",
    "print(sorted(adict.items(), key=lambda x:x[1]))"
   ]
  },
  {
   "cell_type": "code",
   "execution_count": null,
   "metadata": {
    "id": "KaaBjKwoDZed"
   },
   "outputs": [],
   "source": [
    "# Syntax sugar: one-line control flow + list operation\n",
    "x = [1,2,3,5,3]\n",
    "\"\"\"\n",
    "for i in range(len(sent)):\n",
    "    sent[i] = sent[i].lower().split(\" \")\n",
    "\"\"\" \n",
    "x1 = [xx*3 + 5 for xx in x]\n",
    "print(x1)\n",
    "\n",
    "x2 = [xx*3 + 5 for xx in x if xx < 3]\n",
    "print(x2)\n",
    "\n",
    "# Use this for deep copy!\n",
    "# copy = [obj.copy() for obj in original]"
   ]
  },
  {
   "cell_type": "code",
   "execution_count": null,
   "metadata": {
    "id": "3UnBgACTDZee"
   },
   "outputs": [],
   "source": [
    "# Syntax sugar: * operator for repeating iterable elements\n",
    "print(\"-\"*10)\n",
    "print([1]*10)\n",
    "\n",
    "# Note: This only repeating by value\n",
    "#       So you cannot apply the trick on reference types\n",
    "\n",
    "# To create a double list\n",
    "# DONT\n",
    "doublelist = [[]]*10 # this copies a pointer to an empty list\n",
    "print(doublelist)\n",
    "doublelist[0].append(1)\n",
    "print(doublelist)\n",
    "# DO\n",
    "doublelist = [[] for _ in range(10)] # this defines pointers to independent empty lists\n",
    "print(doublelist)\n",
    "doublelist[0].append(1)\n",
    "print(doublelist)"
   ]
  },
  {
   "cell_type": "markdown",
   "metadata": {
    "id": "4z0tW1b1DZee"
   },
   "source": [
    "# 4. Numpy\n",
    "Very powerful python tool for handling matrices and higher dimensional arrays"
   ]
  },
  {
   "cell_type": "code",
   "execution_count": null,
   "metadata": {
    "id": "u9LERkM4DZef"
   },
   "outputs": [],
   "source": [
    "import numpy as np"
   ]
  },
  {
   "cell_type": "code",
   "execution_count": null,
   "metadata": {
    "id": "fjYoQUo2DZef"
   },
   "outputs": [],
   "source": [
    "# create arrays\n",
    "a = np.array([[1,2],[3,4],[5,6]])\n",
    "print(a)\n",
    "print(a.shape)\n",
    "# create all-zero/one arrays\n",
    "b = np.ones((3,4)) # np.zeros((3,4)), np.full((3,4),-1)\n",
    "print(b)\n",
    "print(b.shape)\n",
    "# create identity matrix\n",
    "c = np.eye(5)\n",
    "print(c)\n",
    "print(c.shape)\n",
    "# create random matrix with standard normal init\n",
    "d = np.random.normal(size=(5,5))\n",
    "print(d)"
   ]
  },
  {
   "cell_type": "code",
   "execution_count": null,
   "metadata": {
    "id": "NC57ucKWDZef"
   },
   "outputs": [],
   "source": [
    "# reshaping arrays\n",
    "a = np.arange(8)         # [8,] all vectors are column by default\n",
    "b = a.reshape(1,-1)      # [1,8] row vector -- -1 for auto-fill\n",
    "c = a.reshape((4,2))     # shape [4,2]\n",
    "d = a.reshape((2,2,-1))  # shape [2,2,2]\n",
    "e = d.flatten()          # shape [8,]\n",
    "f = np.expand_dims(a, 0) # shape [1,8] ; or a[None,:]\n",
    "g = np.expand_dims(a, 1) # shape [8,1] ; or a[:,None]\n",
    "h = e.squeeze()          # shape[8, ]    -- remove all unnecessary dimensions\n",
    "print('a:', a.shape)\n",
    "print(a)\n",
    "print('b:', b.shape)\n",
    "print(b)\n",
    "print('c:', c.shape)\n",
    "print(c)\n",
    "print('d:', d.shape)\n",
    "print(d)\n",
    "print('e:', e.shape)\n",
    "print(e)\n",
    "print('f:', f.shape)\n",
    "print(f)\n",
    "print('g:', g.shape)\n",
    "print(g)\n",
    "print('h:', h.shape)\n",
    "print(h)"
   ]
  },
  {
   "cell_type": "code",
   "execution_count": null,
   "metadata": {
    "id": "rczMTQoSDZeg"
   },
   "outputs": [],
   "source": [
    "# be careful about vectors!\n",
    "a = np.array([1,2,3]) # this is a 3-d column vector, which you cannot transpose\n",
    "print(a)\n",
    "print(a.shape)\n",
    "print(a.T.shape)\n",
    "b = a.reshape(-1, 1) # this is a 3x1 matrix, which you can transpose\n",
    "print(b)\n",
    "print(b.shape)\n",
    "print(b.T)\n",
    "print(b.T.shape)"
   ]
  },
  {
   "cell_type": "code",
   "execution_count": null,
   "metadata": {
    "id": "AUNEsBviDZeg"
   },
   "outputs": [],
   "source": [
    "# concatenating arrays\n",
    "a = np.ones((4,3))\n",
    "b = np.ones((4,3))\n",
    "c = np.concatenate([a,b], axis=0)\n",
    "print(c.shape)\n",
    "d = np.concatenate([a,b], axis=1)\n",
    "print(d.shape)"
   ]
  },
  {
   "cell_type": "code",
   "execution_count": null,
   "metadata": {
    "id": "FqkAVg-BDZeg"
   },
   "outputs": [],
   "source": [
    "# access array slices by index\n",
    "a = np.zeros([10, 10])\n",
    "a[:3] = 1\n",
    "a[:, :3] = 2\n",
    "a[:3, :3] = 3\n",
    "rows = [4,6,7]\n",
    "cols = [9,3,5]\n",
    "a[rows, cols] = 4 # assign values in (4,9), (6,3), (7,5)\n",
    "print(a)"
   ]
  },
  {
   "cell_type": "code",
   "execution_count": null,
   "metadata": {
    "id": "GbYQhtRYDZeh"
   },
   "outputs": [],
   "source": [
    "# transposition\n",
    "a = np.arange(24).reshape(2,3,4)\n",
    "print(a.shape)\n",
    "print(a)\n",
    "a = np.transpose(a, (2,1,0)) # swap 0th and 2nd axes\n",
    "print(a.shape)\n",
    "print(a)"
   ]
  },
  {
   "cell_type": "code",
   "execution_count": null,
   "metadata": {
    "id": "Rseg_vt8DZeh"
   },
   "outputs": [],
   "source": [
    "c = np.array([[1,2],[3,4]])\n",
    "print(np.linalg.inv(c))\n",
    "# pinv is pseudo inversion for stability\n",
    "print(np.linalg.pinv(c))\n",
    "# To compute c^-1 b\n",
    "b = np.array([1, 1])\n",
    "print(np.linalg.inv(c)@b)\n",
    "print(np.linalg.solve(c,b)) # preferred!"
   ]
  },
  {
   "cell_type": "code",
   "execution_count": null,
   "metadata": {
    "id": "4snSitByDZeh",
    "scrolled": true
   },
   "outputs": [],
   "source": [
    "# vector dot product\n",
    "v1 = np.array([1,2])\n",
    "v2 = np.array([3,4])\n",
    "print(v1.dot(v2))\n",
    "print(np.dot(v1,v2))\n",
    "print(v1@v2)\n",
    "print(np.sum(v1*v2)) # v1*v2 is element-wise product"
   ]
  },
  {
   "cell_type": "code",
   "execution_count": null,
   "metadata": {
    "id": "YIvU07DcDZei"
   },
   "outputs": [],
   "source": [
    "# vector outer product\n",
    "print(np.outer(v1,v2))\n",
    "print(v1.reshape(-1,1).dot(v2.reshape(1,-1)))"
   ]
  },
  {
   "cell_type": "code",
   "execution_count": null,
   "metadata": {
    "id": "XGgjgw2EDZei"
   },
   "outputs": [],
   "source": [
    "# Matrix multiply vector (Ax)\n",
    "m = np.array([1,2,3,4]).reshape(2,2)\n",
    "v = np.array([1,2])\n",
    "print(m)\n",
    "print(v)\n",
    "print(m @ v)\n",
    "print(m.dot(v))\n",
    "print(np.matmul(m, v))"
   ]
  },
  {
   "cell_type": "code",
   "execution_count": null,
   "metadata": {
    "id": "InH-1xbkDZei"
   },
   "outputs": [],
   "source": [
    "# matrix multiplication\n",
    "a = np.ones((4,3)) # 4,3\n",
    "b = np.ones((3,2)) # 3,2 --> 4,2\n",
    "print(a @ b)\n",
    "print(a.dot(b))\n",
    "print(np.matmul(a,b))"
   ]
  },
  {
   "cell_type": "code",
   "execution_count": null,
   "metadata": {
    "id": "ltVCii15DZei",
    "scrolled": true
   },
   "outputs": [],
   "source": [
    "# broadcasting\n",
    "c = np.ones([4,4])\n",
    "d = np.array([1,2,3,4]).reshape(4,1)\n",
    "print(c.shape)\n",
    "print(d.shape)\n",
    "# automatic repetition along axis\n",
    "print(c + d)"
   ]
  },
  {
   "cell_type": "code",
   "execution_count": null,
   "metadata": {
    "id": "sbabC3fCDZej"
   },
   "outputs": [],
   "source": [
    "# computing pairwise distance (using broadcasting)\n",
    "samples = np.random.random([15, 5]) # suppose this is a collection of 15 5-d vectors\n",
    "diff=samples[:,np.newaxis,:]-samples[np.newaxis] # np.newaxis to introduce new axis; None has the same effect\n",
    "print(samples[:,np.newaxis,:].shape)\n",
    "print(samples[np.newaxis,:,:].shape)\n",
    "print(diff.shape)\n",
    "print(diff[2,3])\n",
    "print(samples[2] - samples[3])"
   ]
  },
  {
   "cell_type": "code",
   "execution_count": null,
   "metadata": {
    "id": "on8ULNL5DZej"
   },
   "outputs": [],
   "source": [
    "# speed test: numpy vs list\n",
    "a = np.ones((50,50))\n",
    "b = np.ones((50,50))\n",
    "\n",
    "def matrix_multiplication(X, Y):\n",
    "    result = [[0]*len(Y[0]) for _ in range(len(X))]\n",
    "    for i in range(len(X)):\n",
    "        for j in range(len(Y[0])):\n",
    "            for k in range(len(Y)):\n",
    "                result[i][j] += X[i][k] * Y[k][j]\n",
    "    return result\n",
    "\n",
    "import time\n",
    "\n",
    "# run numpy matrix multiplication for 10 times\n",
    "start = time.time()\n",
    "for _ in range(10):\n",
    "    a @ b\n",
    "end = time.time()\n",
    "print(\"numpy spends {} seconds\".format(end-start))\n",
    "\n",
    "# run list matrix multiplication for 10 times\n",
    "start = time.time()\n",
    "for _ in range(10):\n",
    "    matrix_multiplication(a,b)\n",
    "end = time.time()\n",
    "print(\"list operation spends {} seconds\".format(end-start))\n",
    "\n",
    "# the difference gets more significant as matrices grow in size!"
   ]
  },
  {
   "cell_type": "code",
   "execution_count": null,
   "metadata": {
    "id": "IiYJ5BZoDZej"
   },
   "outputs": [],
   "source": [
    "# other common operations\n",
    "# a = np.ones((4,4))\n",
    "a = np.arange(1,17).reshape([4,4])\n",
    "print(a)\n",
    "print('default norm along with 0-th axis: ', np.linalg.norm(a, axis=0))\n",
    "print('  default norm: ', np.linalg.norm(a))\n",
    "print('      l_1 norm: ', np.linalg.norm(a, ord=1))\n",
    "print('      l_2 norm: ', np.linalg.norm(a, ord=2))\n",
    "print('    l_inf norm: ', np.linalg.norm(a, ord=np.inf))\n",
    "print('Frobenius norm: ', np.linalg.norm(a, ord='fro'))\n",
    "print(np.sum(a)) # sum all elements in matrix\n",
    "print(np.sum(a, axis=0)) # sum along axis 0\n",
    "print(np.sum(a, axis=1)) # sum along axis 1\n",
    "# element-wise operations, for examples\n",
    "print(np.log(a))\n",
    "print(np.exp(a))\n",
    "print(np.sin(a))\n",
    "# operation with scalar is interpreted as element-wise\n",
    "print(a * 3)\n",
    "print(a.tolist())\n",
    "print(a.tolist() * 3) # caution: python default list duplicates items"
   ]
  },
  {
   "cell_type": "code",
   "execution_count": null,
   "metadata": {
    "id": "X249gHCZDZek"
   },
   "outputs": [],
   "source": [
    "# invalid operations result in an NaN\n",
    "a = np.array(0)\n",
    "b = np.array(0)\n",
    "print(a/b)"
   ]
  },
  {
   "cell_type": "markdown",
   "metadata": {
    "id": "PEqrqcPkDZek"
   },
   "source": [
    "# 5. Matplotlib\n",
    "Powerful tool for visualization <br/>\n",
    "Many tutorials online. We only go over the basics here <br/>"
   ]
  },
  {
   "cell_type": "code",
   "execution_count": null,
   "metadata": {
    "id": "QWrRLiZZDZek"
   },
   "outputs": [],
   "source": [
    "import numpy as np\n",
    "import matplotlib.pyplot as plt"
   ]
  },
  {
   "cell_type": "code",
   "execution_count": null,
   "metadata": {
    "id": "TgBPv9sjDZek",
    "scrolled": true
   },
   "outputs": [],
   "source": [
    "# line plot\n",
    "x = np.arange(0, 2, 0.01)\n",
    "y = 1+np.sin(2*np.pi*x)\n",
    "plt.plot(x,y)\n",
    "plt.show()"
   ]
  },
  {
   "cell_type": "code",
   "execution_count": null,
   "metadata": {
    "id": "YFac0yn0DZel"
   },
   "outputs": [],
   "source": [
    "# scatter plot\n",
    "x = [1,3,2]\n",
    "y = [1,2,3]\n",
    "plt.scatter(x,y)\n",
    "plt.show()"
   ]
  },
  {
   "cell_type": "code",
   "execution_count": null,
   "metadata": {
    "id": "Syy2BFx5DZel"
   },
   "outputs": [],
   "source": [
    "# bar plots\n",
    "plt.bar(x,y)\n",
    "plt.show()"
   ]
  },
  {
   "cell_type": "code",
   "execution_count": null,
   "metadata": {
    "id": "j1NxutvMDZel"
   },
   "outputs": [],
   "source": [
    "# plot configurations\n",
    "x = [1,2,3]\n",
    "y1 = [1,3,2]\n",
    "y2 = [4,0,4]\n",
    "\n",
    "# set figure size\n",
    "plt.figure(figsize=(5,5))\n",
    "\n",
    "# set axes\n",
    "plt.xlim(0,5)\n",
    "plt.ylim(0,5)\n",
    "plt.xlabel(\"x label\")\n",
    "plt.ylabel(\"y label\")\n",
    "\n",
    "# add title\n",
    "plt.title(\"My Plot\")\n",
    "\n",
    "plt.plot(x,y1, label=\"data1\", color=\"red\", marker=\"*\", dashes=[5,1])\n",
    "plt.plot(x,y2, label=\"data2\", color=\"green\", marker=\".\")\n",
    "plt.grid()\n",
    "plt.legend()\n",
    "plt.show()"
   ]
  },
  {
   "cell_type": "code",
   "execution_count": null,
   "metadata": {
    "id": "X7qBHpsvDZem"
   },
   "outputs": [],
   "source": [
    "# subplots\n",
    "f, ax = plt.subplots(2,2,figsize=(5,5))\n",
    "ax[0][0].plot(x,y)\n",
    "ax[0][1].scatter(x,y)\n",
    "ax[1][0].bar(x,y)\n",
    "ax[1][1].hist(x,y)\n",
    "plt.show()"
   ]
  },
  {
   "cell_type": "code",
   "execution_count": null,
   "metadata": {
    "id": "HN8kh2oGDZem"
   },
   "outputs": [],
   "source": [
    "# plot area under curve\n",
    "probs = [1, 1, 0.95, 0.9, 0.9, 0.8, 0.7, 0.6, 0.5, 0.4]\n",
    "thres = np.arange(0,1,0.1)\n",
    "plt.fill_between(x=thres, y1=probs, y2=0, step='post')\n",
    "plt.show()"
   ]
  },
  {
   "cell_type": "code",
   "execution_count": null,
   "metadata": {
    "id": "IjP7QmksDZem"
   },
   "outputs": [],
   "source": [
    "import seaborn as sn\n",
    "import matplotlib.pyplot as plt\n",
    "\n",
    "array = [[13,1,1,0,2,0],\n",
    "         [3,9,6,0,1,0],\n",
    "         [0,0,16,2,0,0],\n",
    "         [0,0,0,13,0,0],\n",
    "         [0,0,0,0,15,0],\n",
    "         [0,0,1,0,0,15]]\n",
    "labels = 'A B C D E F'.split(' ')\n",
    "sn.heatmap(array, annot=True, annot_kws={\"size\": 16}, cmap=\"rocket_r\")\n",
    "plt.xticks(ticks=np.arange(len(labels))+0.5,labels=labels)\n",
    "plt.yticks(ticks=np.arange(len(labels))+0.5,labels=labels,rotation=0)\n",
    "plt.show()"
   ]
  },
  {
   "cell_type": "code",
   "execution_count": null,
   "metadata": {
    "id": "f7npb939DZen"
   },
   "outputs": [],
   "source": []
  }
 ],
 "metadata": {
  "colab": {
   "collapsed_sections": [],
   "provenance": []
  },
  "kernelspec": {
   "display_name": "Python 3 (ipykernel)",
   "language": "python",
   "name": "python3"
  },
  "language_info": {
   "codemirror_mode": {
    "name": "ipython",
    "version": 3
   },
   "file_extension": ".py",
   "mimetype": "text/x-python",
   "name": "python",
   "nbconvert_exporter": "python",
   "pygments_lexer": "ipython3",
   "version": "3.11.7"
  }
 },
 "nbformat": 4,
 "nbformat_minor": 4
}
